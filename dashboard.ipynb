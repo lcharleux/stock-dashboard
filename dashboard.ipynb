{
 "cells": [
  {
   "cell_type": "code",
   "execution_count": null,
   "id": "b99d8299-e2fb-41d7-a086-5a8af4cf826f",
   "metadata": {},
   "outputs": [],
   "source": [
    "import os\n",
    "\n",
    "import ipyvuetify as v\n",
    "import ipywidgets as ipw\n",
    "import yfinance as yf\n",
    "from ipyflex import FlexLayout\n",
    "from voila.utils import get_query_string\n",
    "from ticker import TickerData\n",
    "from widgets import (\n",
    "    financial_info_factory,\n",
    "    new_factory,\n",
    "    price_chart_factory,\n",
    "    price_history_factory,\n",
    "    text_widget,\n",
    "    balance_sheet_factory,\n",
    "    analysis_factory\n",
    ")"
   ]
  },
  {
   "cell_type": "code",
   "execution_count": null,
   "id": "ebaae013-207f-4499-b602-1926f595cac4",
   "metadata": {},
   "outputs": [],
   "source": [
    "voila = os.getenv(\"VOILA_KERNEL_ID\")\n",
    "if voila is not None:\n",
    "    editable = True\n",
    "    height = \"calc(100vh - 60px)\"\n",
    "else:\n",
    "    editable = True\n",
    "    height = \"800px\""
   ]
  },
  {
   "cell_type": "code",
   "execution_count": null,
   "id": "d2731aae-553a-4243-8e9b-1021329e4377",
   "metadata": {},
   "outputs": [],
   "source": [
    "w = FlexLayout(\n",
    "    style={\"height\": height},\n",
    "    header={\"title\": \"STOCK DASHBOAD\", \"style\": {\"backgroundColor\": \"rgb(53 53 53)\"}, \"buttons\":[\"export\",\"import\"]},\n",
    "    template=\"ticker2.json\",\n",
    "    editable=editable,\n",
    ")\n",
    "style = ipw.HTML(\"\"\"<style>.js-plotly-plot {height: 100%;}</style> \"\"\")"
   ]
  },
  {
   "cell_type": "code",
   "execution_count": null,
   "id": "a9c6f911-d895-4a36-8982-b8ae76b994ca",
   "metadata": {
    "tags": []
   },
   "outputs": [],
   "source": [
    "ipw.VBox([w, style])"
   ]
  },
  {
   "cell_type": "code",
   "execution_count": null,
   "id": "cbbd643e-e7e7-4890-9ffb-a6608d4ec26d",
   "metadata": {},
   "outputs": [],
   "source": [
    "query_string = get_query_string()\n",
    "ticker_name = \"NVDA\"\n",
    "if query_string is not None:\n",
    "    for item in query_string.split(\"?\"):\n",
    "        query = item.split(\"=\")\n",
    "        if len(query) > 1 and query[0] == 'ticker':\n",
    "            ticker_name = query[1]\n"
   ]
  },
  {
   "cell_type": "code",
   "execution_count": null,
   "id": "69f9c03e-f04f-4307-9ee1-6c1519f1d0e5",
   "metadata": {},
   "outputs": [],
   "source": [
    "ticker = TickerData(ticker_name)\n",
    "news = new_factory(ticker.news)\n",
    "info = financial_info_factory(ticker.financial_info, ticker._info[\"logo_url\"])\n",
    "price = price_chart_factory(ticker.price(), ticker_name)\n",
    "history = price_history_factory(ticker.price('3y'), ticker_name)\n",
    "summary = text_widget(\"Business Summary \", ticker._info[\"longBusinessSummary\"])\n",
    "balance_sheet = balance_sheet_factory(ticker.balance_sheet)\n",
    "analysis = analysis_factory(ticker.analysis)\n",
    "widgets = {\n",
    "    \"news\": news,\n",
    "    \"info\": info,\n",
    "    \"price\": price,\n",
    "    \"history\": history,\n",
    "    \"summary\": summary,\n",
    "    \"balance_sheet\": balance_sheet,\n",
    "    \"analysis\": analysis\n",
    "}"
   ]
  },
  {
   "cell_type": "code",
   "execution_count": null,
   "id": "599965a0-1ca7-4eb2-9a9d-30c505ea6be4",
   "metadata": {},
   "outputs": [],
   "source": [
    "for key, value in widgets.items():\n",
    "    w.add(key, value)\n"
   ]
  }
 ],
 "metadata": {
  "kernelspec": {
   "display_name": "Python 3 (ipykernel)",
   "language": "python",
   "name": "python3"
  },
  "language_info": {
   "codemirror_mode": {
    "name": "ipython",
    "version": 3
   },
   "file_extension": ".py",
   "mimetype": "text/x-python",
   "name": "python",
   "nbconvert_exporter": "python",
   "pygments_lexer": "ipython3",
   "version": "3.9.7"
  },
  "widgets": {}
 },
 "nbformat": 4,
 "nbformat_minor": 5
}
